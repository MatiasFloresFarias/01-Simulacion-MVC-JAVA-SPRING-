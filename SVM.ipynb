{
  "nbformat": 4,
  "nbformat_minor": 0,
  "metadata": {
    "colab": {
      "name": "SVM.ipynb",
      "provenance": [],
      "include_colab_link": true
    },
    "kernelspec": {
      "name": "python3",
      "display_name": "Python 3"
    },
    "language_info": {
      "name": "python"
    }
  },
  "cells": [
    {
      "cell_type": "markdown",
      "metadata": {
        "id": "view-in-github",
        "colab_type": "text"
      },
      "source": [
        "<a href=\"https://colab.research.google.com/github/MatiasFloresFarias/01-Simulacion-MVC-JAVA-SPRING-/blob/master/SVM.ipynb\" target=\"_parent\"><img src=\"https://colab.research.google.com/assets/colab-badge.svg\" alt=\"Open In Colab\"/></a>"
      ]
    },
    {
      "cell_type": "code",
      "metadata": {
        "colab": {
          "base_uri": "https://localhost:8080/"
        },
        "id": "CZuv_fQ1YoYo",
        "outputId": "8bdd9bee-b360-4d48-d640-448849d58db8"
      },
      "source": [
        "import sys\n",
        "print(\"sys: {}\".format(sys.version))\n",
        "\n",
        "import scipy\n",
        "print(\"scipy: {}\".format(scipy.__version__))\n",
        "\n",
        "import numpy as np\n",
        "print(\"numpy: {}\".format(np.__version__))\n",
        "\n",
        "import matplotlib\n",
        "print(\"matplotlib: {}\".format(matplotlib.__version__))\n",
        "\n",
        "import pandas\n",
        "print(\"pandas: {}\".format(pandas.__version__))\n",
        "\n",
        "import sklearn"
      ],
      "execution_count": null,
      "outputs": [
        {
          "output_type": "stream",
          "name": "stdout",
          "text": [
            "sys: 3.7.12 (default, Sep 10 2021, 00:21:48) \n",
            "[GCC 7.5.0]\n",
            "scipy: 1.4.1\n",
            "numpy: 1.19.5\n",
            "matplotlib: 3.2.2\n",
            "pandas: 1.1.5\n"
          ]
        }
      ]
    },
    {
      "cell_type": "code",
      "metadata": {
        "id": "mQcVBFZPYqHB"
      },
      "source": [
        "from pandas.plotting import scatter_matrix\n",
        "import matplotlib.pyplot as plt\n",
        "from sklearn import model_selection\n",
        "from sklearn.datasets import make_blobs\n",
        "from sklearn import datasets\n",
        "from sklearn.metrics import classification_report\n",
        "from sklearn.metrics import confusion_matrix\n",
        "from sklearn.metrics import accuracy_score\n",
        "from sklearn.linear_model import LogisticRegression\n",
        "from sklearn.tree import DecisionTreeClassifier\n",
        "from sklearn.neighbors import KNeighborsClassifier\n",
        "from sklearn.discriminant_analysis import LinearDiscriminantAnalysis\n",
        "from sklearn.naive_bayes import GaussianNB\n",
        "from sklearn.svm import SVC"
      ],
      "execution_count": null,
      "outputs": []
    },
    {
      "cell_type": "code",
      "metadata": {
        "id": "ea3DUnc2ePim"
      },
      "source": [
        "x,y = make_blobs(n_samples=40, centers=2, random_state=20)"
      ],
      "execution_count": null,
      "outputs": []
    },
    {
      "cell_type": "code",
      "metadata": {
        "colab": {
          "base_uri": "https://localhost:8080/"
        },
        "id": "VNWAz_qpfDTu",
        "outputId": "5280a58e-f26a-483d-d024-65f60ea3379b"
      },
      "source": [
        "x.shape"
      ],
      "execution_count": null,
      "outputs": [
        {
          "output_type": "execute_result",
          "data": {
            "text/plain": [
              "(40, 2)"
            ]
          },
          "metadata": {},
          "execution_count": 4
        }
      ]
    },
    {
      "cell_type": "code",
      "metadata": {
        "colab": {
          "base_uri": "https://localhost:8080/"
        },
        "id": "Ayq-J4wEhEyW",
        "outputId": "dc39ec97-f01a-4c8c-b102-7e0d5d0a0da5"
      },
      "source": [
        "x[:, 1].shape"
      ],
      "execution_count": null,
      "outputs": [
        {
          "output_type": "execute_result",
          "data": {
            "text/plain": [
              "(40,)"
            ]
          },
          "metadata": {},
          "execution_count": 6
        }
      ]
    },
    {
      "cell_type": "code",
      "metadata": {
        "colab": {
          "base_uri": "https://localhost:8080/",
          "height": 265
        },
        "id": "nqDrg7dRgDoW",
        "outputId": "2b0332f9-29b9-4a3d-c38c-6fdac4107894"
      },
      "source": [
        "plt.scatter(x[:, 0], x[:, 1], c=y, s=30, cmap=plt.cm.Paired)\n",
        "plt.show()"
      ],
      "execution_count": null,
      "outputs": [
        {
          "output_type": "display_data",
          "data": {
            "image/png": "[encoded data removed]",
            "text/plain": [
              "<Figure size 432x288 with 1 Axes>"
            ]
          },
          "metadata": {
            "needs_background": "light"
          }
        }
      ]
    },
    {
      "cell_type": "code",
      "metadata": {
        "colab": {
          "base_uri": "https://localhost:8080/"
        },
        "id": "RtsfuFqneqvu",
        "outputId": "a69338ad-15d7-415e-a21e-64a2a4417a26"
      },
      "source": [
        "cls = SVC(kernel = 'linear', C=1000)\n",
        "cls.fit(x,y)"
      ],
      "execution_count": null,
      "outputs": [
        {
          "output_type": "execute_result",
          "data": {
            "text/plain": [
              "SVC(C=1000, kernel='linear')"
            ]
          },
          "metadata": {},
          "execution_count": 8
        }
      ]
    },
    {
      "cell_type": "code",
      "metadata": {
        "colab": {
          "base_uri": "https://localhost:8080/"
        },
        "id": "J_1BPHqyhTR2",
        "outputId": "2a419c8a-dd1c-4839-f777-4bbdefb66495"
      },
      "source": [
        "newData = [[3,4], [5,6]]\n",
        "cls.predict(newData)"
      ],
      "execution_count": null,
      "outputs": [
        {
          "output_type": "execute_result",
          "data": {
            "text/plain": [
              "array([0, 1])"
            ]
          },
          "metadata": {},
          "execution_count": 9
        }
      ]
    },
    {
      "cell_type": "code",
      "metadata": {
        "colab": {
          "base_uri": "https://localhost:8080/"
        },
        "id": "rRo0aNkZls5l",
        "outputId": "1d8d558b-d989-46d3-afe6-9e9e36c74f03"
      },
      "source": [
        "cls.decision_function(newData)"
      ],
      "execution_count": null,
      "outputs": [
        {
          "output_type": "execute_result",
          "data": {
            "text/plain": [
              "array([-0.33816737,  0.26433501])"
            ]
          },
          "metadata": {},
          "execution_count": 10
        }
      ]
    },
    {
      "cell_type": "code",
      "metadata": {
        "colab": {
          "base_uri": "https://localhost:8080/",
          "height": 265
        },
        "id": "wvTB4aFch4Ye",
        "outputId": "a03de649-59c3-41c1-8241-86ed4edab054"
      },
      "source": [
        "x,y = make_blobs(n_samples=40, centers=2, random_state=20)\n",
        "\n",
        "cls = SVC(kernel = 'linear', C=1000)\n",
        "cls.fit(x,y)\n",
        "\n",
        "plt.scatter(x[:, 0], x[:, 1], c=y, s=30, cmap=plt.cm.Paired)\n",
        "\n",
        "newData = [[3,4], [5,6]]\n",
        "\n",
        "ax = plt.gca()\n",
        "xlim = ax.get_xlim()\n",
        "ylim = ax.get_ylim()\n",
        "\n",
        "xx = np.linspace(xlim[0], xlim[1], 30)\n",
        "yy = np.linspace(ylim[0], ylim[1], 30)\n",
        "\n",
        "YY, XX = np.meshgrid(yy, xx)\n",
        "xy = np.vstack([XX.ravel(), YY.ravel()]).T\n",
        "Z = cls.decision_function(xy).reshape(XX.shape)\n",
        "\n",
        "ax.contour(XX, YY, Z, colors='k', levels=[-1, 0, 1], alpha = 0.5, linestyles=['--', '-', '--'])\n",
        "\n",
        "ax.scatter(cls.support_vectors_[:, 0], cls.support_vectors_[:, 1], s=100, linewidth=1, facecolors='none')\n",
        "ax.scatter(3,4)\n",
        "ax.scatter(5,6)\n",
        "plt.show()"
      ],
      "execution_count": null,
      "outputs": [
        {
          "output_type": "display_data",
          "data": {
            "image/png": "[encoded data removed]",
            "text/plain": [
              "<Figure size 432x288 with 1 Axes>"
            ]
          },
          "metadata": {
            "needs_background": "light"
          }
        }
      ]
    },
    {
      "cell_type": "code",
      "metadata": {
        "id": "h8fRtg8LYiY5"
      },
      "source": [
        "cancer_data = datasets.load_breast_cancer()"
      ],
      "execution_count": null,
      "outputs": []
    },
    {
      "cell_type": "code",
      "metadata": {
        "colab": {
          "base_uri": "https://localhost:8080/"
        },
        "id": "kn-YrhfTdODQ",
        "outputId": "56e1ea0b-8487-4bd2-a114-d4ad3ad8d899"
      },
      "source": [
        "cancer_data.target_names"
      ],
      "execution_count": null,
      "outputs": [
        {
          "output_type": "execute_result",
          "data": {
            "text/plain": [
              "array(['malignant', 'benign'], dtype='<U9')"
            ]
          },
          "metadata": {},
          "execution_count": 16
        }
      ]
    },
    {
      "cell_type": "code",
      "metadata": {
        "colab": {
          "base_uri": "https://localhost:8080/"
        },
        "id": "QoHaVisJdt_h",
        "outputId": "d0490e40-4306-4859-ffce-8aabfb4d101e"
      },
      "source": [
        "cancer_data.data[0:2]"
      ],
      "execution_count": null,
      "outputs": [
        {
          "output_type": "execute_result",
          "data": {
            "text/plain": [
              "array([[1.799e+01, 1.038e+01, 1.228e+02, 1.001e+03, 1.184e-01, 2.776e-01,\n",
              "        3.001e-01, 1.471e-01, 2.419e-01, 7.871e-02, 1.095e+00, 9.053e-01,\n",
              "        8.589e+00, 1.534e+02, 6.399e-03, 4.904e-02, 5.373e-02, 1.587e-02,\n",
              "        3.003e-02, 6.193e-03, 2.538e+01, 1.733e+01, 1.846e+02, 2.019e+03,\n",
              "        1.622e-01, 6.656e-01, 7.119e-01, 2.654e-01, 4.601e-01, 1.189e-01],\n",
              "       [2.057e+01, 1.777e+01, 1.329e+02, 1.326e+03, 8.474e-02, 7.864e-02,\n",
              "        8.690e-02, 7.017e-02, 1.812e-01, 5.667e-02, 5.435e-01, 7.339e-01,\n",
              "        3.398e+00, 7.408e+01, 5.225e-03, 1.308e-02, 1.860e-02, 1.340e-02,\n",
              "        1.389e-02, 3.532e-03, 2.499e+01, 2.341e+01, 1.588e+02, 1.956e+03,\n",
              "        1.238e-01, 1.866e-01, 2.416e-01, 1.860e-01, 2.750e-01, 8.902e-02]])"
            ]
          },
          "metadata": {},
          "execution_count": 17
        }
      ]
    },
    {
      "cell_type": "code",
      "metadata": {
        "id": "KFlDPAv9YyGR"
      },
      "source": [
        "x_train, x_test, y_train, y_test = model_selection.train_test_split(cancer_data.data, cancer_data.target, test_size = 0.4, random_state = 6)"
      ],
      "execution_count": null,
      "outputs": []
    },
    {
      "cell_type": "code",
      "metadata": {
        "id": "MdUiYtTMY1BQ"
      },
      "source": [
        "cls = SVC(kernel = 'linear')"
      ],
      "execution_count": null,
      "outputs": []
    },
    {
      "cell_type": "code",
      "metadata": {
        "colab": {
          "base_uri": "https://localhost:8080/"
        },
        "id": "CNyc82eHpcKE",
        "outputId": "190241a2-c4c7-4dc4-d3f9-484c132978d6"
      },
      "source": [
        "cls.fit(x_train, y_train)"
      ],
      "execution_count": null,
      "outputs": [
        {
          "output_type": "execute_result",
          "data": {
            "text/plain": [
              "SVC(kernel='linear')"
            ]
          },
          "metadata": {},
          "execution_count": 20
        }
      ]
    },
    {
      "cell_type": "code",
      "metadata": {
        "id": "ne4ISmdGY3p4"
      },
      "source": [
        "pred = cls.predict(x_test)"
      ],
      "execution_count": null,
      "outputs": []
    },
    {
      "cell_type": "code",
      "metadata": {
        "colab": {
          "base_uri": "https://localhost:8080/"
        },
        "id": "mdWFgLJ7Y625",
        "outputId": "57341c11-0e25-4728-c132-804641f84545"
      },
      "source": [
        "print(\"acuracy:\", accuracy_score(y_test, y_pred=pred))"
      ],
      "execution_count": null,
      "outputs": [
        {
          "output_type": "stream",
          "name": "stdout",
          "text": [
            "acuracy: 0.9517543859649122\n"
          ]
        }
      ]
    },
    {
      "cell_type": "code",
      "metadata": {
        "colab": {
          "base_uri": "https://localhost:8080/"
        },
        "id": "c8mniScxezIZ",
        "outputId": "700d24b9-a00f-4165-cbe1-2702b22d0901"
      },
      "source": [
        "cls.support_"
      ],
      "execution_count": null,
      "outputs": [
        {
          "output_type": "execute_result",
          "data": {
            "text/plain": [
              "array([  8,   9,  20,  35,  65,  68, 105, 116, 131, 142, 149, 159, 165,\n",
              "       194, 230, 237, 243, 249, 271, 313,   0,  39,  43,  55,  60,  98,\n",
              "       107, 115, 137, 145, 205, 218, 251, 275, 276, 282, 309, 317, 322],\n",
              "      dtype=int32)"
            ]
          },
          "metadata": {},
          "execution_count": 23
        }
      ]
    },
    {
      "cell_type": "code",
      "metadata": {
        "colab": {
          "base_uri": "https://localhost:8080/"
        },
        "id": "i4E5V-5zfCtR",
        "outputId": "8fff2c43-fa47-4021-8c05-f809d894eee3"
      },
      "source": [
        "cls.support_vectors_[0]"
      ],
      "execution_count": null,
      "outputs": [
        {
          "output_type": "execute_result",
          "data": {
            "text/plain": [
              "array([1.386e+01, 1.693e+01, 9.096e+01, 5.789e+02, 1.026e-01, 1.517e-01,\n",
              "       9.901e-02, 5.602e-02, 2.106e-01, 6.916e-02, 2.563e-01, 1.194e+00,\n",
              "       1.933e+00, 2.269e+01, 5.960e-03, 3.438e-02, 3.909e-02, 1.435e-02,\n",
              "       1.939e-02, 4.560e-03, 1.575e+01, 2.693e+01, 1.044e+02, 7.501e+02,\n",
              "       1.460e-01, 4.370e-01, 4.636e-01, 1.654e-01, 3.630e-01, 1.059e-01])"
            ]
          },
          "metadata": {},
          "execution_count": 24
        }
      ]
    }
  ]
}